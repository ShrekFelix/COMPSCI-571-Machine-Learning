{
 "cells": [
  {
   "cell_type": "code",
   "execution_count": 1,
   "metadata": {
    "collapsed": true
   },
   "outputs": [],
   "source": [
    "import numpy as np"
   ]
  },
  {
   "cell_type": "code",
   "execution_count": 25,
   "metadata": {
    "collapsed": true
   },
   "outputs": [],
   "source": [
    "from cvxopt import matrix, solvers"
   ]
  },
  {
   "cell_type": "code",
   "execution_count": 581,
   "metadata": {
    "collapsed": true
   },
   "outputs": [],
   "source": [
    "from sklearn import svm\n",
    "from sklearn import preprocessing\n",
    "from sklearn import metrics\n",
    "from sklearn.model_selection import train_test_split"
   ]
  },
  {
   "cell_type": "code",
   "execution_count": 384,
   "metadata": {
    "collapsed": true
   },
   "outputs": [],
   "source": [
    "%matplotlib inline\n",
    "import matplotlib.pyplot as plt"
   ]
  },
  {
   "cell_type": "code",
   "execution_count": 774,
   "metadata": {
    "collapsed": true
   },
   "outputs": [],
   "source": [
    "X=np.array([[.75,.10],\n",
    "            [.85,.80],\n",
    "            [.85,.95],\n",
    "            [.15,.10],\n",
    "            [.05,.25],\n",
    "            [.05,.50],\n",
    "            [.85,.25]])\n",
    "Y=np.array([-1,-1,1,-1,1,1,-1])"
   ]
  },
  {
   "cell_type": "code",
   "execution_count": 765,
   "metadata": {
    "collapsed": true
   },
   "outputs": [],
   "source": [
    "class SVC():\n",
    "    def __init__(self, kernel=None, C=0):\n",
    "        self.C = C\n",
    "        if kernel == None:\n",
    "            self.kernel = lambda x,z : np.dot(x,z)\n",
    "        else:\n",
    "            self.kernel = kernel\n",
    "    \n",
    "    def train(self, X, Y):\n",
    "        self.X = X\n",
    "        self.Y = Y.reshape(-1,1)\n",
    "        \n",
    "        \n",
    "        n = len(Y)\n",
    "        P = matrix([[(self.kernel(X[i],X[j]) * Y[i]*Y[j]) for i in range(n)] for j in range(n)])\n",
    "        q = matrix([-1. for i in range(n)])\n",
    "        G = matrix(-np.eye(n))\n",
    "        h = matrix(np.zeros((n,1)))\n",
    "        A = matrix(Y).trans()\n",
    "        b = matrix(0.)\n",
    "        sol = solvers.qp(P, q, G, h, A, b)\n",
    "        \n",
    "        self.alpha = np.array(sol['x'])\n",
    "        self.w = (np.array(sol['x']) * Y.reshape(-1, 1)).T @ X\n",
    "        self.b = - ( np.min(X[Y==1] @ w.T) + np.max(X[Y==-1] @ w.T) )/2\n",
    "        \n",
    "    def predict(self, X):\n",
    "        scores = [0 for i in range(len(X))]\n",
    "        for j in range(len(X)):\n",
    "            score = 0\n",
    "            for i in range(len(self.X)):\n",
    "                score += self.alpha[i] * self.Y[i] * self.kernel(X[j], self.X[i])\n",
    "            scores[j] = score + self.b\n",
    "        \n",
    "        #scores = X @ self.w.T + self.b\n",
    "        Y_hat = [1 if score>0 else -1 for score in scores]\n",
    "        return Y_hat"
   ]
  },
  {
   "cell_type": "code",
   "execution_count": 773,
   "metadata": {},
   "outputs": [
    {
     "data": {
      "text/plain": [
       "array([[ -2.76496634e-04,   1.10325927e-05,  -3.64054680e-05,\n",
       "         -1.71240175e-03,   1.50153216e-03,   3.85530526e-04,\n",
       "          4.21400182e-06,  -1.32834772e-03,  -3.96157848e-05]])"
      ]
     },
     "execution_count": 773,
     "metadata": {},
     "output_type": "execute_result"
    }
   ],
   "source": []
  },
  {
   "cell_type": "code",
   "execution_count": null,
   "metadata": {
    "collapsed": true
   },
   "outputs": [],
   "source": [
    "n = len(y_train)\n",
    "P = matrix([[(kernel(X_train[i],X_train[j]) * y_train[i]*y_train[j]) for i in range(n)] for j in range(n)])\n",
    "q = matrix([-1. for i in range(n)])\n",
    "G = matrix(-np.eye(n))\n",
    "h = matrix(np.zeros((n,1)))\n",
    "A = matrix(y_train).trans()\n",
    "b = matrix(0.)\n",
    "sol = solvers.qp(P, q, G, h, A, b)\n",
    "\n",
    "alpha = np.array(sol['x'])\n",
    "w = (np.array(sol['x']) * Y.reshape(-1, 1)).T @ X\n",
    "b = - ( np.min(X[Y==1] @ w.T) + np.max(X[Y==-1] @ w.T) )/2"
   ]
  },
  {
   "cell_type": "code",
   "execution_count": null,
   "metadata": {
    "collapsed": true
   },
   "outputs": [],
   "source": [
    "scores = []\n",
    "for j in range(len(X_test)):\n",
    "    score = 0\n",
    "    for i in range(len(X_train)):\n",
    "        score += self.alpha[i] * y_train[i] * kernel(X_test[j], X_train[i])\n",
    "    scores[j] = score\n",
    "\n",
    "Y_hat = [1 if score>0 else -1 for score in scores]\n",
    "Y_hat"
   ]
  },
  {
   "cell_type": "code",
   "execution_count": 188,
   "metadata": {
    "collapsed": true
   },
   "outputs": [],
   "source": [
    "def load_CSV(file_name):\n",
    "    tmp = np.loadtxt(file_name, dtype=np.str, delimiter=\",\")\n",
    "    features = tmp[1:,:-1].astype(np.float)# load features\n",
    "    labels = tmp[1:,-1].astype(np.float)# load labels\n",
    "    return features, labels # return ndarray"
   ]
  },
  {
   "cell_type": "code",
   "execution_count": 766,
   "metadata": {
    "collapsed": true
   },
   "outputs": [],
   "source": [
    "clf = SVC()"
   ]
  },
  {
   "cell_type": "code",
   "execution_count": 736,
   "metadata": {
    "collapsed": true
   },
   "outputs": [],
   "source": [
    "y_train[y_train==0]=-1\n",
    "y_test[y_test==0]=-1"
   ]
  },
  {
   "cell_type": "code",
   "execution_count": 767,
   "metadata": {},
   "outputs": [
    {
     "name": "stdout",
     "output_type": "stream",
     "text": [
      "     pcost       dcost       gap    pres   dres\n",
      " 0: -6.0817e+02 -1.9838e+03  1e+04  1e+02  3e+00\n",
      " 1: -2.8000e+03 -7.0458e+03  1e+04  8e+01  3e+00\n",
      " 2: -7.9479e+03 -1.5031e+04  9e+03  6e+01  2e+00\n",
      " 3: -1.6815e+04 -2.5243e+04  9e+03  5e+01  2e+00\n",
      " 4: -4.9051e+04 -5.7879e+04  9e+03  4e+01  1e+00\n",
      " 5: -1.3885e+05 -1.5688e+05  2e+04  3e+01  1e+00\n",
      " 6: -7.6072e+05 -8.0841e+05  5e+04  3e+01  1e+00\n",
      " 7: -1.4000e+06 -1.4834e+06  8e+04  3e+01  1e+00\n",
      " 8: -1.4345e+06 -1.5198e+06  9e+04  3e+01  1e+00\n",
      " 9: -2.1143e+07 -2.1428e+07  3e+05  3e+01  1e+00\n",
      "10: -1.4260e+09 -1.4282e+09  2e+06  3e+01  1e+00\n",
      "11: -2.2839e+11 -2.2866e+11  3e+08  3e+01  1e+00\n",
      "12: -2.3179e+11 -2.3206e+11  3e+08  3e+01  1e+00\n",
      "13: -2.9678e+11 -2.9713e+11  3e+08  3e+01  1e+00\n",
      "14: -3.0464e+11 -3.0499e+11  4e+08  3e+01  1e+00\n",
      "15: -3.0493e+11 -3.0529e+11  4e+08  3e+01  1e+00\n",
      "16: -5.4106e+11 -5.4170e+11  6e+08  3e+01  1e+00\n",
      "17: -6.0686e+11 -6.0757e+11  7e+08  3e+01  1e+00\n",
      "18: -7.8617e+11 -7.8709e+11  9e+08  3e+01  1e+00\n",
      "19: -1.0008e+12 -1.0020e+12  1e+09  3e+01  1e+00\n",
      "20: -1.1857e+12 -1.1870e+12  1e+09  3e+01  1e+00\n",
      "21: -1.7589e+12 -1.7608e+12  2e+09  3e+01  1e+00\n",
      "Terminated (singular KKT matrix).\n"
     ]
    }
   ],
   "source": [
    "clf.train(X_train, y_train)"
   ]
  },
  {
   "cell_type": "code",
   "execution_count": 768,
   "metadata": {},
   "outputs": [
    {
     "data": {
      "text/plain": [
       "[-1,\n",
       " -1,\n",
       " -1,\n",
       " -1,\n",
       " -1,\n",
       " -1,\n",
       " -1,\n",
       " -1,\n",
       " -1,\n",
       " -1,\n",
       " -1,\n",
       " -1,\n",
       " -1,\n",
       " -1,\n",
       " -1,\n",
       " -1,\n",
       " -1,\n",
       " -1,\n",
       " -1,\n",
       " -1,\n",
       " -1,\n",
       " -1,\n",
       " -1,\n",
       " -1,\n",
       " -1,\n",
       " -1,\n",
       " -1,\n",
       " -1,\n",
       " -1,\n",
       " -1,\n",
       " -1,\n",
       " -1,\n",
       " -1,\n",
       " -1,\n",
       " -1,\n",
       " -1,\n",
       " -1,\n",
       " -1,\n",
       " -1,\n",
       " -1,\n",
       " -1,\n",
       " -1,\n",
       " -1,\n",
       " -1,\n",
       " -1,\n",
       " -1,\n",
       " -1,\n",
       " -1,\n",
       " -1,\n",
       " -1,\n",
       " -1,\n",
       " -1,\n",
       " -1,\n",
       " -1,\n",
       " -1,\n",
       " -1,\n",
       " -1,\n",
       " -1,\n",
       " -1,\n",
       " -1,\n",
       " -1,\n",
       " -1,\n",
       " -1,\n",
       " -1,\n",
       " -1,\n",
       " -1,\n",
       " -1,\n",
       " -1,\n",
       " -1,\n",
       " -1,\n",
       " -1,\n",
       " -1,\n",
       " -1,\n",
       " -1,\n",
       " -1,\n",
       " -1,\n",
       " -1,\n",
       " -1,\n",
       " -1,\n",
       " -1,\n",
       " -1,\n",
       " -1,\n",
       " -1,\n",
       " -1,\n",
       " -1,\n",
       " -1,\n",
       " -1,\n",
       " -1,\n",
       " -1,\n",
       " -1,\n",
       " -1,\n",
       " -1,\n",
       " -1,\n",
       " -1,\n",
       " -1,\n",
       " -1,\n",
       " -1,\n",
       " -1,\n",
       " -1,\n",
       " -1,\n",
       " -1,\n",
       " -1,\n",
       " -1,\n",
       " -1,\n",
       " -1,\n",
       " -1,\n",
       " -1,\n",
       " -1,\n",
       " -1,\n",
       " -1,\n",
       " -1,\n",
       " -1,\n",
       " -1,\n",
       " -1,\n",
       " -1,\n",
       " -1,\n",
       " -1,\n",
       " -1,\n",
       " -1,\n",
       " -1,\n",
       " -1,\n",
       " -1,\n",
       " -1,\n",
       " -1,\n",
       " -1,\n",
       " -1,\n",
       " -1,\n",
       " -1,\n",
       " -1,\n",
       " -1,\n",
       " -1,\n",
       " -1]"
      ]
     },
     "execution_count": 768,
     "metadata": {},
     "output_type": "execute_result"
    }
   ],
   "source": [
    "Y_hat=clf.predict(X_test)\n",
    "Y_hat"
   ]
  },
  {
   "cell_type": "code",
   "execution_count": 769,
   "metadata": {},
   "outputs": [
    {
     "data": {
      "text/plain": [
       "(26,)"
      ]
     },
     "execution_count": 769,
     "metadata": {},
     "output_type": "execute_result"
    }
   ],
   "source": [
    "compare = (Y_hat - y_test)\n",
    "compare[compare==0].shape"
   ]
  },
  {
   "cell_type": "markdown",
   "metadata": {},
   "source": [
    "## (b) Train an SVM classifier with the kernel function k(x, z) = x⊤z on 9/10ths of the credit card data set."
   ]
  },
  {
   "cell_type": "code",
   "execution_count": 735,
   "metadata": {
    "collapsed": true
   },
   "outputs": [],
   "source": [
    "X,Y = load_CSV('creditCard.csv')\n",
    "X_train, X_test, y_train, y_test = train_test_split(X, Y, test_size=0.1, random_state=2018)\n",
    "X_train = preprocessing.scale(X_train)\n",
    "X_test = preprocessing.scale(X_test)"
   ]
  },
  {
   "cell_type": "markdown",
   "metadata": {},
   "source": [
    "ROC and AUC:"
   ]
  },
  {
   "cell_type": "code",
   "execution_count": null,
   "metadata": {
    "collapsed": true
   },
   "outputs": [],
   "source": []
  },
  {
   "cell_type": "code",
   "execution_count": 683,
   "metadata": {},
   "outputs": [
    {
     "data": {
      "text/plain": [
       "0.84542815674891147"
      ]
     },
     "execution_count": 683,
     "metadata": {},
     "output_type": "execute_result"
    },
    {
     "data": {
      "image/png": "[encoded data removed]",
      "text/plain": [
       "<matplotlib.figure.Figure at 0x1a28c8dba8>"
      ]
     },
     "metadata": {},
     "output_type": "display_data"
    }
   ],
   "source": [
    "linear_svc = svm.SVC(kernel='linear')\n",
    "y_score = linear_svc.fit(X_train, y_train).decision_function(X_test)\n",
    "\n",
    "fpr, tpr, thresholds = metrics.roc_curve(y_test, y_score)\n",
    "plt.plot(fpr,tpr)\n",
    "plt.xlim(0,1)\n",
    "plt.ylim(0,1)\n",
    "metrics.auc(fpr,tpr)"
   ]
  },
  {
   "cell_type": "markdown",
   "metadata": {},
   "source": [
    "accuracy:"
   ]
  },
  {
   "cell_type": "code",
   "execution_count": 684,
   "metadata": {},
   "outputs": [
    {
     "data": {
      "text/plain": [
       "0.84090909090909094"
      ]
     },
     "execution_count": 684,
     "metadata": {},
     "output_type": "execute_result"
    }
   ],
   "source": [
    "linear_svc.score(X_test, y_test)"
   ]
  },
  {
   "cell_type": "markdown",
   "metadata": {},
   "source": [
    "## (c) Train an SVM classifier with the radial basis kernel"
   ]
  },
  {
   "cell_type": "markdown",
   "metadata": {},
   "source": [
    "$\\sigma^2=5$:"
   ]
  },
  {
   "cell_type": "code",
   "execution_count": 685,
   "metadata": {},
   "outputs": [
    {
     "data": {
      "text/plain": [
       "0.76015965166908561"
      ]
     },
     "execution_count": 685,
     "metadata": {},
     "output_type": "execute_result"
    },
    {
     "data": {
      "image/png": "[encoded data removed]",
      "text/plain": [
       "<matplotlib.figure.Figure at 0x1a26f43c88>"
      ]
     },
     "metadata": {},
     "output_type": "display_data"
    }
   ],
   "source": [
    "rbf_svc5 = svm.SVC(gamma=1/5)\n",
    "y_score = rbf_svc5.fit(X_train, y_train).decision_function(X_test)\n",
    "\n",
    "fpr, tpr, thresholds = metrics.roc_curve(y_test, y_score)\n",
    "plt.plot(fpr,tpr)\n",
    "plt.xlim(0,1)\n",
    "plt.ylim(0,1)\n",
    "metrics.auc(fpr,tpr)"
   ]
  },
  {
   "cell_type": "markdown",
   "metadata": {},
   "source": [
    "accuracy:"
   ]
  },
  {
   "cell_type": "code",
   "execution_count": 691,
   "metadata": {},
   "outputs": [
    {
     "data": {
      "text/plain": [
       "0.80303030303030298"
      ]
     },
     "execution_count": 691,
     "metadata": {},
     "output_type": "execute_result"
    }
   ],
   "source": [
    "rbf_svc5.score(X_test, y_test)"
   ]
  },
  {
   "cell_type": "markdown",
   "metadata": {},
   "source": [
    "$\\sigma^2=25$:"
   ]
  },
  {
   "cell_type": "code",
   "execution_count": 686,
   "metadata": {},
   "outputs": [
    {
     "data": {
      "text/plain": [
       "0.84651669085631354"
      ]
     },
     "execution_count": 686,
     "metadata": {},
     "output_type": "execute_result"
    },
    {
     "data": {
      "image/png": "[encoded data removed]",
      "text/plain": [
       "<matplotlib.figure.Figure at 0x1a28fbf438>"
      ]
     },
     "metadata": {},
     "output_type": "display_data"
    }
   ],
   "source": [
    "rbf_svc25 = svm.SVC(gamma=1/25)\n",
    "y_score = rbf_svc25.fit(X_train, y_train).decision_function(X_test)\n",
    "\n",
    "fpr, tpr, thresholds = metrics.roc_curve(y_test, y_score)\n",
    "plt.plot(fpr,tpr)\n",
    "plt.xlim(0,1)\n",
    "plt.ylim(0,1)\n",
    "metrics.auc(fpr,tpr)"
   ]
  },
  {
   "cell_type": "markdown",
   "metadata": {},
   "source": [
    "accuracy:"
   ]
  },
  {
   "cell_type": "code",
   "execution_count": 690,
   "metadata": {},
   "outputs": [
    {
     "data": {
      "text/plain": [
       "0.84090909090909094"
      ]
     },
     "execution_count": 690,
     "metadata": {},
     "output_type": "execute_result"
    }
   ],
   "source": [
    "rbf_svc25.score(X_test, y_test)"
   ]
  },
  {
   "cell_type": "code",
   "execution_count": 695,
   "metadata": {
    "collapsed": true
   },
   "outputs": [],
   "source": [
    "def scale(data):\n",
    "    return (data - data.mean()) / data.std()"
   ]
  },
  {
   "cell_type": "code",
   "execution_count": 692,
   "metadata": {
    "collapsed": true
   },
   "outputs": [],
   "source": [
    "X,Y = load_CSV('creditCard.csv')\n",
    "\n",
    "X = (X - X.mean()) / X.std()\n",
    "Y = (Y - Y.mean()) / Y.std()"
   ]
  },
  {
   "cell_type": "code",
   "execution_count": 669,
   "metadata": {},
   "outputs": [],
   "source": [
    "X,Y = load_CSV('creditCard.csv')\n",
    "np.random.seed(2018)\n",
    "itrain = np.random.choice(len(X), int(X.shape[0]*0.9),replace=False)\n",
    "itest = np.array(list(set(range(len(X))) - set(itrain)))\n",
    "X_train = X[itrain]\n",
    "y_train = Y[itrain]\n",
    "X_test = X[itest]\n",
    "y_test = Y[itest]\n",
    "X_train = preprocessing.scale(X_train)\n",
    "X_test = preprocessing.scale(X_test)"
   ]
  },
  {
   "cell_type": "code",
   "execution_count": 597,
   "metadata": {},
   "outputs": [],
   "source": [
    "def ROC(X,Y, classifier):\n",
    "    scores = classifier.decision_function(X)\n",
    "    #ROC\n",
    "    curve = sorted(zip(scores,Y), key=lambda x:x[0], reverse=True)\n",
    "    x = [0 for i in range(len(curve))]\n",
    "    y = [0 for i in range(len(curve))]\n",
    "    for i in range(1,len(curve)):\n",
    "        if curve[i][1]==1:\n",
    "            x[i] = x[i-1]\n",
    "            y[i] = y[i-1]+1/len(Y[Y==1])\n",
    "        else:\n",
    "            x[i] = x[i-1]+1/len(Y[Y==0])\n",
    "            y[i] = y[i-1]  \n",
    "    plt.plot(x,y)\n",
    "    plt.xlim(0,1)\n",
    "    plt.ylim(0,1)   \n",
    "    return x,y"
   ]
  },
  {
   "cell_type": "code",
   "execution_count": 638,
   "metadata": {},
   "outputs": [],
   "source": [
    "def AUC(x,y):\n",
    "    area = 0\n",
    "    for i in range(1,len(x)):\n",
    "        area += (x[i] - x[i-1]) * y[i]\n",
    "    return area"
   ]
  },
  {
   "cell_type": "code",
   "execution_count": 688,
   "metadata": {},
   "outputs": [
    {
     "data": {
      "text/plain": [
       "0.7507256894049341"
      ]
     },
     "execution_count": 688,
     "metadata": {},
     "output_type": "execute_result"
    },
    {
     "data": {
      "image/png": "[encoded data removed]",
      "text/plain": [
       "<matplotlib.figure.Figure at 0x1a288662b0>"
      ]
     },
     "metadata": {},
     "output_type": "display_data"
    }
   ],
   "source": [
    "rbf_svc5 = svm.SVC(gamma=1/5)\n",
    "rbf_svc5.fit(X_train, y_train)\n",
    "x, y = ROC(X_test, y_test, rbf_svc5)\n",
    "AUC(x,y)"
   ]
  },
  {
   "cell_type": "code",
   "execution_count": 689,
   "metadata": {},
   "outputs": [
    {
     "data": {
      "text/plain": [
       "0.8370827285921619"
      ]
     },
     "execution_count": 689,
     "metadata": {},
     "output_type": "execute_result"
    },
    {
     "data": {
      "image/png": "[encoded data removed]",
      "text/plain": [
       "<matplotlib.figure.Figure at 0x1a26f60860>"
      ]
     },
     "metadata": {},
     "output_type": "display_data"
    }
   ],
   "source": [
    "rbf_svc25 = svm.SVC(gamma=1/25)\n",
    "rbf_svc25.fit(X_train, y_train)\n",
    "x, y = ROC(X_test, y_test, rbf_svc25)\n",
    "AUC(x,y)"
   ]
  }
 ],
 "metadata": {
  "kernelspec": {
   "display_name": "Python 3",
   "language": "python",
   "name": "python3"
  },
  "language_info": {
   "codemirror_mode": {
    "name": "ipython",
    "version": 3
   },
   "file_extension": ".py",
   "mimetype": "text/x-python",
   "name": "python",
   "nbconvert_exporter": "python",
   "pygments_lexer": "ipython3",
   "version": "3.6.3"
  }
 },
 "nbformat": 4,
 "nbformat_minor": 2
}
