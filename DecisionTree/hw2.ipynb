{
 "cells": [
  {
   "cell_type": "code",
   "execution_count": 3,
   "metadata": {},
   "outputs": [],
   "source": [
    "%matplotlib inline\n",
    "import numpy as np\n",
    "import matplotlib.pyplot as plt\n",
    "import copy"
   ]
  },
  {
   "cell_type": "code",
   "execution_count": null,
   "metadata": {},
   "outputs": [],
   "source": []
  },
  {
   "cell_type": "code",
   "execution_count": null,
   "metadata": {},
   "outputs": [],
   "source": []
  },
  {
   "cell_type": "markdown",
   "metadata": {},
   "source": [
    "## (a) Run the Perceptron algorithm to compute a linear classifier that passes through the origin."
   ]
  },
  {
   "cell_type": "code",
   "execution_count": 2,
   "metadata": {},
   "outputs": [],
   "source": [
    "def perceptron(S, I, converge=1):\n",
    "    # initialization\n",
    "    w = [0 for d in range( len(S[0][0]) )]\n",
    "    W = []\n",
    "    for e in range(I):\n",
    "        mistakes = 0 # number of mistakes made in each epoch\n",
    "        for i in range(len(S)): # iterate over dataset\n",
    "            if S[i][1] * np.dot(w, S[i][0]) <= 0: # label not agree with prediction\n",
    "                mistakes += 1\n",
    "                w += np.dot(S[i][1], S[i][0])\n",
    "        W.append(copy.deepcopy(w)) # save w after each epoch\n",
    "        if ( 1 - mistakes / len(S) ) >= converge: # converges\n",
    "            break\n",
    "    return W"
   ]
  },
  {
   "cell_type": "code",
   "execution_count": 5,
   "metadata": {},
   "outputs": [],
   "source": [
    "def accuracy(S, W):\n",
    "    accuracy = []\n",
    "    for e in range(len(W)): # for each epoch\n",
    "        mistakes = 0\n",
    "        for i in range(len(S)): # count mistakes\n",
    "            if S[i][1] * np.dot(W[e], S[i][0]) <= 0: # label not agree with prediction\n",
    "                mistakes += 1\n",
    "        accuracy.append( 1 - mistakes / len(S) ) # update list of accuracy for each epoch\n",
    "    return accuracy"
   ]
  },
  {
   "cell_type": "code",
   "execution_count": null,
   "metadata": {},
   "outputs": [],
   "source": []
  },
  {
   "cell_type": "code",
   "execution_count": null,
   "metadata": {},
   "outputs": [],
   "source": []
  },
  {
   "cell_type": "code",
   "execution_count": 5,
   "metadata": {},
   "outputs": [],
   "source": [
    "# observed data\n",
    "X=[ ([.75,.10], -1),\n",
    "    ([.85,.80], -1),\n",
    "    ([.85,.95],  1),\n",
    "    ([.15,.10], -1),\n",
    "    ([.05,.25],  1),\n",
    "    ([.05,.50],  1),\n",
    "    ([.85,.25], -1)]"
   ]
  },
  {
   "cell_type": "code",
   "execution_count": 13,
   "metadata": {},
   "outputs": [
    {
     "data": {
      "image/png": "[encoded data removed]",
      "text/plain": [
       "<matplotlib.figure.Figure at 0x1043f0cc0>"
      ]
     },
     "metadata": {},
     "output_type": "display_data"
    }
   ],
   "source": [
    "# run perceptron algorithm and draw the evolution of accuracy after each epoch\n",
    "W=perceptron(X,100)\n",
    "acc=accuracy(X,W)\n",
    "plt.plot(range(1, len(acc)+1), acc)\n",
    "plt.xlabel('epochs')\n",
    "plt.ylabel('accuracy')\n",
    "pass"
   ]
  },
  {
   "cell_type": "markdown",
   "metadata": {},
   "source": [
    "It takes 2 epochs of iteration of the dataset to converge. The error is 0."
   ]
  },
  {
   "cell_type": "code",
   "execution_count": null,
   "metadata": {},
   "outputs": [],
   "source": []
  },
  {
   "cell_type": "code",
   "execution_count": null,
   "metadata": {},
   "outputs": [],
   "source": []
  },
  {
   "cell_type": "code",
   "execution_count": 7,
   "metadata": {},
   "outputs": [
    {
     "data": {
      "text/plain": [
       "[array([-0.9,  0.5]), array([-1.05,  1.1 ]), array([-1.05,  1.1 ])]"
      ]
     },
     "execution_count": 7,
     "metadata": {},
     "output_type": "execute_result"
    }
   ],
   "source": [
    "W"
   ]
  },
  {
   "cell_type": "code",
   "execution_count": 14,
   "metadata": {},
   "outputs": [
    {
     "data": {
      "image/png": "[encoded data removed]",
      "text/plain": [
       "<matplotlib.figure.Figure at 0x1048d4be0>"
      ]
     },
     "metadata": {},
     "output_type": "display_data"
    }
   ],
   "source": [
    "x1=np.linspace(0,1,100)\n",
    "x2=1.05/1.1*x1\n",
    "plt.plot(x1,x2)\n",
    "plt.xlabel('X1')\n",
    "plt.ylabel('X2')\n",
    "for i in range(len(X)):\n",
    "    if X[i][1]==1:\n",
    "        plt.scatter(X[i][0][0], X[i][0][1], marker='+')\n",
    "    else:\n",
    "        plt.scatter(X[i][0][0], X[i][0][1], marker='_')\n",
    "pass"
   ]
  },
  {
   "cell_type": "markdown",
   "metadata": {},
   "source": [
    "For the linear decision boundaries passing through the origin, any one $X_2=kX_1$ with k between -0.85/0.8 and -0.85/0.95 would work"
   ]
  },
  {
   "cell_type": "markdown",
   "metadata": {},
   "source": [
    "## (b) Grow a fully-grown decision tree using the reduction in the Gini index as the splitting criterion"
   ]
  },
  {
   "cell_type": "code",
   "execution_count": 8,
   "metadata": {},
   "outputs": [
    {
     "data": {
      "image/png": "[encoded data removed]",
      "text/plain": [
       "<matplotlib.figure.Figure at 0x10e516630>"
      ]
     },
     "metadata": {},
     "output_type": "display_data"
    }
   ],
   "source": [
    "plt.plot([0.1 for i in range(100)], np.linspace(0,1,100))\n",
    "plt.plot(np.linspace(0.1,1,100), [0.875 for i in range(100)])\n",
    "plt.xlabel('X1')\n",
    "plt.ylabel('X2')\n",
    "for i in range(len(X)):\n",
    "    if X[i][1]==1:\n",
    "        plt.scatter(X[i][0][0], X[i][0][1], marker='+')\n",
    "    else:\n",
    "        plt.scatter(X[i][0][0], X[i][0][1], marker='_')\n",
    "pass"
   ]
  },
  {
   "cell_type": "markdown",
   "metadata": {},
   "source": [
    "The error is 0\n",
    "for X1"
   ]
  },
  {
   "cell_type": "code",
   "execution_count": 1,
   "metadata": {},
   "outputs": [],
   "source": [
    "def Gini_index(p):\n",
    "    return 2*p*(1-p)"
   ]
  },
  {
   "cell_type": "code",
   "execution_count": null,
   "metadata": {},
   "outputs": [],
   "source": [
    "# S: [(x, y)(x,y)...(x,y)]\n",
    "#      |  |\n",
    "#      |  S[i][1]:labels yi\n",
    "#      S[i][0]:images xi(784,)\n",
    "\n",
    "# X1[x1, x2, ..., xn] X2[x1, x2, ..., xn] \n",
    "\n",
    "def CART(X, Y, I):\n",
    "    x="
   ]
  },
  {
   "cell_type": "code",
   "execution_count": null,
   "metadata": {},
   "outputs": [],
   "source": []
  },
  {
   "cell_type": "code",
   "execution_count": null,
   "metadata": {},
   "outputs": [],
   "source": []
  },
  {
   "cell_type": "code",
   "execution_count": null,
   "metadata": {},
   "outputs": [],
   "source": []
  },
  {
   "cell_type": "code",
   "execution_count": null,
   "metadata": {},
   "outputs": [],
   "source": []
  }
 ],
 "metadata": {
  "kernelspec": {
   "display_name": "Python 3",
   "language": "python",
   "name": "python3"
  },
  "language_info": {
   "codemirror_mode": {
    "name": "ipython",
    "version": 3
   },
   "file_extension": ".py",
   "mimetype": "text/x-python",
   "name": "python",
   "nbconvert_exporter": "python",
   "pygments_lexer": "ipython3",
   "version": "3.6.4"
  }
 },
 "nbformat": 4,
 "nbformat_minor": 2
}
